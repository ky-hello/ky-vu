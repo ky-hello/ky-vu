{
 "cells": [
  {
   "cell_type": "markdown",
   "id": "b22c3756",
   "metadata": {},
   "source": [
    "# Thuật toán và cách biểu diễn thuật toán\n",
    "\n",
    "### Lập trình\n",
    "\n",
    "Lập trình là gì?"
   ]
  },
  {
   "cell_type": "markdown",
   "id": "1e46ac95",
   "metadata": {},
   "source": [
    "Lập trình là đưa ra những câu lệnh để máy tính thực hiện.\n",
    "\n",
    "Đưa ra câu lệnh A, trước câu lệnh B thì câu lệnh A sẽ được thực hiện trước."
   ]
  },
  {
   "cell_type": "markdown",
   "id": "472d8fac",
   "metadata": {},
   "source": [
    "### Thuật toán\n",
    "\n",
    "Thuật toán là gì?"
   ]
  },
  {
   "cell_type": "markdown",
   "id": "dc72d7ef",
   "metadata": {},
   "source": [
    "Thuật toán là những câu lệnh được đưa ra để giải quyết một vấn đề nào đó."
   ]
  },
  {
   "cell_type": "markdown",
   "id": "dcdf838e",
   "metadata": {},
   "source": [
    "### Mã gỉả\n",
    "\n",
    "#### Khái niệm:\n",
    "\n",
    "Mã giả được viết với ngôn ngữ tự nhiên một thuật toán nào đó dùng để giải quyết một vấn đề lập trình.\n",
    "\n",
    "Mã giả được quy ước chung theo từng nơi làm việc.\n",
    "\n",
    "Ví dụ:\n",
    "\n",
    "<b>Đề bài:</b>\n",
    "\n",
    "Yêu cầu bài toán: Khi ta đói và thèm một món nào đó (nhập từ bàn phím), tiến hành đặt đồ ăn, nếu món ta thèm còn thì đặt đồ món đó, không còn thì đặt cơm sườn, không còn cơm sườn thì đi ngủ.\n",
    "\n",
    "<b>Mã giả:</b>"
   ]
  },
  {
   "cell_type": "raw",
   "id": "1105afb0",
   "metadata": {},
   "source": []
  },
  {
   "cell_type": "markdown",
   "id": "f4289a5d",
   "metadata": {},
   "source": [
    "<b>Đề bài:</b>\n",
    "\n",
    "Yêu cầu bài toán: Nhập vào một số a, kiểm tra xem số đó có phải là số lớn hơn 10 không.\n",
    "\n",
    "<b>Mã giả:</b>"
   ]
  },
  {
   "cell_type": "raw",
   "id": "9b35b367",
   "metadata": {},
   "source": []
  },
  {
   "cell_type": "markdown",
   "id": "f27364a1",
   "metadata": {},
   "source": [
    "<b>Đề bài:</b>\n",
    "\n",
    "Yêu cầu bài toán: Nhập vào một số a, kiểm tra xem số a là số âm hay số dương\n",
    "\n",
    "<b>Mã giả:</b>"
   ]
  },
  {
   "cell_type": "raw",
   "id": "01ad145c",
   "metadata": {},
   "source": []
  },
  {
   "cell_type": "markdown",
   "id": "bf94226d",
   "metadata": {},
   "source": [
    "### Lưu đồ giải thuật\n",
    "\n",
    "Lưu đồ giải thuật là một thuật toán được biểu diễn với dạng lưu đồ\n",
    "\n",
    "Công cụ vẽ lưu đồ giải thuật: https://draw.io/\n",
    "\n",
    "<b>Đề bài:</b>\n",
    "\n",
    "Yêu cầu bài toán: Khi ta đói và thèm một món nào đó (nhập từ bàn phím), tiến hành đặt đồ ăn, nếu món ta thèm còn thì đặt đồ món đó, không còn thì đặt cơm sườn, không còn cơm sườn thì đi ngủ.\n",
    "\n",
    "<b>Lưu đồ giải thuật:</b>"
   ]
  },
  {
   "cell_type": "markdown",
   "id": "beb9458a",
   "metadata": {},
   "source": []
  },
  {
   "cell_type": "markdown",
   "id": "552b0a5f",
   "metadata": {},
   "source": [
    "<b>Đề bài:</b>\n",
    "\n",
    "Yêu cầu bài toán: Nhập vào một số a, kiểm tra xem số đó có phải là số lớn hơn 10 không.\n",
    "\n",
    "<b>Lưu đồ giải thuật:</b>"
   ]
  },
  {
   "cell_type": "markdown",
   "id": "5deb3c54",
   "metadata": {},
   "source": []
  },
  {
   "cell_type": "markdown",
   "id": "3e7ce685",
   "metadata": {},
   "source": [
    "<b>Đề bài:</b>\n",
    "\n",
    "Yêu cầu bài toán: Nhập vào một số a, kiểm tra xem số a là số âm hay số dương\n",
    "\n",
    "<b>Lưu đồ giải thuật:</b>"
   ]
  },
  {
   "cell_type": "markdown",
   "id": "8c4ef741",
   "metadata": {},
   "source": [
    "Nhập (a)\n",
    "Nếu a > 0 :\n",
    "In(số dương )\n",
    "Ngược lại:\n",
    "In (số âm)"
   ]
  },
  {
   "cell_type": "markdown",
   "id": "0e05161a",
   "metadata": {},
   "source": [
    "### Bài tập\n",
    "\n",
    "<b>Đề bài</b>\n",
    "\n",
    "Nhập vào nhiệt độ C, chuyển sang độ F rồi in ra màn hình\n",
    "\n",
    "<b>Mã giả:</b>"
   ]
  },
  {
   "cell_type": "raw",
   "id": "4741e547",
   "metadata": {},
   "source": [
    "Nhập (C)\n",
    "F = C*1.8+32\n",
    "In (F)"
   ]
  },
  {
   "cell_type": "markdown",
   "id": "89c7e7b0",
   "metadata": {},
   "source": [
    "<b>Lưu đồ giải thuật:</b>"
   ]
  },
  {
   "cell_type": "markdown",
   "id": "909d160b",
   "metadata": {},
   "source": [
    "<b>Đề bài</b>\n",
    "\n",
    "Nhập vào lương tháng này, nếu lương tháng này nhiều hơn 2 triệu thì trừ đi 10% thuế, nếu không thì không trừ.\n",
    "\n",
    "Hãy tính và in ra lương thực nhận được\n",
    "\n",
    "<b>Mã giả:</b>\n"
   ]
  },
  {
   "cell_type": "markdown",
   "id": "2eca90fd",
   "metadata": {},
   "source": [
    "Nhập (lương)\n",
    "Nếu (lương>2000000)\n",
    "     lương=lương*0.9"
   ]
  },
  {
   "cell_type": "raw",
   "id": "1c1e796d",
   "metadata": {},
   "source": []
  },
  {
   "cell_type": "markdown",
   "id": "ca74e75e",
   "metadata": {},
   "source": [
    "<b>Lưu đồ giải thuật:</b>"
   ]
  },
  {
   "cell_type": "markdown",
   "id": "09ede106",
   "metadata": {},
   "source": []
  },
  {
   "cell_type": "markdown",
   "id": "66635c1e",
   "metadata": {},
   "source": [
    "<b>Đề bài</b>\n",
    "\n",
    "Nhập vào lương thực nhận được tháng này, nếu lương ít hơn 10 triệu, đưa hết cho vợ, nếu lương nhiều hơn 10 triệu, vợ cho 10% lương\n",
    "\n",
    "Hãy tính và in ra màn hình phần lương mình được nhận\n",
    "\n",
    "<b>Mã giả:</b>"
   ]
  },
  {
   "cell_type": "raw",
   "id": "fbb7d30d",
   "metadata": {},
   "source": [
    "Nhập (lương )\n",
    "Nếu (lương<10tr)\n",
    "     lương đưa hết cho vợ\n",
    "Nếu (lương>10tr)\n",
    "    lương = lương*0.1\n",
    "In (lương)"
   ]
  },
  {
   "cell_type": "markdown",
   "id": "bdeb5caa",
   "metadata": {},
   "source": [
    "<b>Lưu đồ giải thuật:</b>"
   ]
  },
  {
   "cell_type": "markdown",
   "id": "47468334",
   "metadata": {},
   "source": [
    "%3CmxGraphModel%3E%3Croot%3E%3CmxCell%20id%3D%220%22%2F%3E%3CmxCell%20id%3D%221%22%20parent%3D%220%22%2F%3E%3CmxCell%20id%3D%222%22%20value%3D%22%22%20style%3D%22edgeStyle%3DorthogonalEdgeStyle%3Brounded%3D0%3BorthogonalLoop%3D1%3BjettySize%3Dauto%3Bhtml%3D1%3B%22%20edge%3D%221%22%20source%3D%223%22%20target%3D%225%22%20parent%3D%221%22%3E%3CmxGeometry%20relative%3D%221%22%20as%3D%22geometry%22%2F%3E%3C%2FmxCell%3E%3CmxCell%20id%3D%223%22%20value%3D%22B%E1%BA%AFt%20%C4%91%E1%BA%A7u%22%20style%3D%22ellipse%3BwhiteSpace%3Dwrap%3Bhtml%3D1%3B%22%20vertex%3D%221%22%20parent%3D%221%22%3E%3CmxGeometry%20x%3D%22200%22%20y%3D%22230%22%20width%3D%22120%22%20height%3D%2280%22%20as%3D%22geometry%22%2F%3E%3C%2FmxCell%3E%3CmxCell%20id%3D%224%22%20value%3D%22%22%20style%3D%22edgeStyle%3DorthogonalEdgeStyle%3Brounded%3D0%3BorthogonalLoop%3D1%3BjettySize%3Dauto%3Bhtml%3D1%3B%22%20edge%3D%221%22%20source%3D%225%22%20target%3D%228%22%20parent%3D%221%22%3E%3CmxGeometry%20relative%3D%221%22%20as%3D%22geometry%22%2F%3E%3C%2FmxCell%3E%3CmxCell%20id%3D%225%22%20value%3D%22Nh%E1%BA%ADp%20(l%C6%B0%C6%A1ng)%22%20style%3D%22shape%3Dparallelogram%3Bperimeter%3DparallelogramPerimeter%3BwhiteSpace%3Dwrap%3Bhtml%3D1%3BfixedSize%3D1%3B%22%20vertex%3D%221%22%20parent%3D%221%22%3E%3CmxGeometry%20x%3D%22200%22%20y%3D%22350%22%20width%3D%22120%22%20height%3D%2260%22%20as%3D%22geometry%22%2F%3E%3C%2FmxCell%3E%3CmxCell%20id%3D%226%22%20value%3D%22%C4%91%C3%BAng%22%20style%3D%22edgeStyle%3DorthogonalEdgeStyle%3Brounded%3D0%3BorthogonalLoop%3D1%3BjettySize%3Dauto%3Bhtml%3D1%3B%22%20edge%3D%221%22%20source%3D%228%22%20parent%3D%221%22%3E%3CmxGeometry%20relative%3D%221%22%20as%3D%22geometry%22%3E%3CmxPoint%20x%3D%22260%22%20y%3D%22570%22%20as%3D%22targetPoint%22%2F%3E%3C%2FmxGeometry%3E%3C%2FmxCell%3E%3CmxCell%20id%3D%227%22%20value%3D%22sai%22%20style%3D%22edgeStyle%3DorthogonalEdgeStyle%3Brounded%3D0%3BorthogonalLoop%3D1%3BjettySize%3Dauto%3Bhtml%3D1%3B%22%20edge%3D%221%22%20source%3D%228%22%20target%3D%2211%22%20parent%3D%221%22%3E%3CmxGeometry%20relative%3D%221%22%20as%3D%22geometry%22%2F%3E%3C%2FmxCell%3E%3CmxCell%20id%3D%228%22%20value%3D%22N%E1%BA%BFu%20l%C6%B0%C6%A1ng%20%26amp%3Blt%3B10tr%22%20style%3D%22rhombus%3BwhiteSpace%3Dwrap%3Bhtml%3D1%3B%22%20vertex%3D%221%22%20parent%3D%221%22%3E%3CmxGeometry%20x%3D%22220%22%20y%3D%22460%22%20width%3D%2280%22%20height%3D%2280%22%20as%3D%22geometry%22%2F%3E%3C%2FmxCell%3E%3CmxCell%20id%3D%229%22%20value%3D%22%C4%91%C3%BAng%22%20style%3D%22edgeStyle%3DorthogonalEdgeStyle%3Brounded%3D0%3BorthogonalLoop%3D1%3BjettySize%3Dauto%3Bhtml%3D1%3B%22%20edge%3D%221%22%20source%3D%2211%22%20target%3D%2215%22%20parent%3D%221%22%3E%3CmxGeometry%20relative%3D%221%22%20as%3D%22geometry%22%2F%3E%3C%2FmxCell%3E%3CmxCell%20id%3D%2210%22%20value%3D%22sai%22%20style%3D%22edgeStyle%3DorthogonalEdgeStyle%3Brounded%3D0%3BorthogonalLoop%3D1%3BjettySize%3Dauto%3Bhtml%3D1%3BexitX%3D1%3BexitY%3D0.5%3BexitDx%3D0%3BexitDy%3D0%3BentryX%3D1%3BentryY%3D0.5%3BentryDx%3D0%3BentryDy%3D0%3B%22%20edge%3D%221%22%20source%3D%2211%22%20target%3D%2220%22%20parent%3D%221%22%3E%3CmxGeometry%20relative%3D%221%22%20as%3D%22geometry%22%2F%3E%3C%2FmxCell%3E%3CmxCell%20id%3D%2211%22%20value%3D%22n%E1%BA%BFu%20l%C6%B0%C6%A1ng%26amp%3Bgt%3B10tr%22%20style%3D%22rhombus%3BwhiteSpace%3Dwrap%3Bhtml%3D1%3B%22%20vertex%3D%221%22%20parent%3D%221%22%3E%3CmxGeometry%20x%3D%22360%22%20y%3D%22460%22%20width%3D%2280%22%20height%3D%2280%22%20as%3D%22geometry%22%2F%3E%3C%2FmxCell%3E%3CmxCell%20id%3D%2212%22%20value%3D%22%C4%91%C3%BAng%22%20style%3D%22edgeStyle%3DorthogonalEdgeStyle%3Brounded%3D0%3BorthogonalLoop%3D1%3BjettySize%3Dauto%3Bhtml%3D1%3B%22%20edge%3D%221%22%20source%3D%2213%22%20target%3D%2218%22%20parent%3D%221%22%3E%3CmxGeometry%20relative%3D%221%22%20as%3D%22geometry%22%2F%3E%3C%2FmxCell%3E%3CmxCell%20id%3D%2213%22%20value%3D%22l%C6%B0%C6%A1ng%20%C4%91%C6%B0a%20h%E1%BA%BFt%20cho%20v%E1%BB%A3%22%20style%3D%22rounded%3D0%3BwhiteSpace%3Dwrap%3Bhtml%3D1%3B%22%20vertex%3D%221%22%20parent%3D%221%22%3E%3CmxGeometry%20x%3D%22200%22%20y%3D%22570%22%20width%3D%22120%22%20height%3D%2260%22%20as%3D%22geometry%22%2F%3E%3C%2FmxCell%3E%3CmxCell%20id%3D%2214%22%20value%3D%22%C4%91%C3%BAng%22%20style%3D%22edgeStyle%3DorthogonalEdgeStyle%3Brounded%3D0%3BorthogonalLoop%3D1%3BjettySize%3Dauto%3Bhtml%3D1%3B%22%20edge%3D%221%22%20source%3D%2215%22%20target%3D%2220%22%20parent%3D%221%22%3E%3CmxGeometry%20relative%3D%221%22%20as%3D%22geometry%22%2F%3E%3C%2FmxCell%3E%3CmxCell%20id%3D%2215%22%20value%3D%22l%C6%B0%C6%A1ng%20%3D%20l%C6%B0%C6%A1ng%20*0.1%22%20style%3D%22rounded%3D0%3BwhiteSpace%3Dwrap%3Bhtml%3D1%3B%22%20vertex%3D%221%22%20parent%3D%221%22%3E%3CmxGeometry%20x%3D%22340%22%20y%3D%22570%22%20width%3D%22120%22%20height%3D%2260%22%20as%3D%22geometry%22%2F%3E%3C%2FmxCell%3E%3CmxCell%20id%3D%2216%22%20value%3D%22K%E1%BA%BFt%20th%C3%BAc%22%20style%3D%22ellipse%3BwhiteSpace%3Dwrap%3Bhtml%3D1%3B%22%20vertex%3D%221%22%20parent%3D%221%22%3E%3CmxGeometry%20x%3D%22270%22%20y%3D%22780%22%20width%3D%22120%22%20height%3D%2280%22%20as%3D%22geometry%22%2F%3E%3C%2FmxCell%3E%3CmxCell%20id%3D%2217%22%20style%3D%22edgeStyle%3DorthogonalEdgeStyle%3Brounded%3D0%3BorthogonalLoop%3D1%3BjettySize%3Dauto%3Bhtml%3D1%3BexitX%3D0.5%3BexitY%3D1%3BexitDx%3D0%3BexitDy%3D0%3B%22%20edge%3D%221%22%20source%3D%2218%22%20parent%3D%221%22%3E%3CmxGeometry%20relative%3D%221%22%20as%3D%22geometry%22%3E%3CmxPoint%20x%3D%22330%22%20y%3D%22780%22%20as%3D%22targetPoint%22%2F%3E%3C%2FmxGeometry%3E%3C%2FmxCell%3E%3CmxCell%20id%3D%2218%22%20value%3D%22In%20l%C6%B0%C6%A1ng%3D0%22%20style%3D%22rounded%3D0%3BwhiteSpace%3Dwrap%3Bhtml%3D1%3B%22%20vertex%3D%221%22%20parent%3D%221%22%3E%3CmxGeometry%20x%3D%22200%22%20y%3D%22680%22%20width%3D%22120%22%20height%3D%2250%22%20as%3D%22geometry%22%2F%3E%3C%2FmxCell%3E%3CmxCell%20id%3D%2219%22%20style%3D%22edgeStyle%3DorthogonalEdgeStyle%3Brounded%3D0%3BorthogonalLoop%3D1%3BjettySize%3Dauto%3Bhtml%3D1%3BentryX%3D0.5%3BentryY%3D0%3BentryDx%3D0%3BentryDy%3D0%3B%22%20edge%3D%221%22%20source%3D%2220%22%20target%3D%2216%22%20parent%3D%221%22%3E%3CmxGeometry%20relative%3D%221%22%20as%3D%22geometry%22%2F%3E%3C%2FmxCell%3E%3CmxCell%20id%3D%2220%22%20value%3D%22in%20l%C6%B0%C6%A1ng%3Dl%C6%B0%C6%A1ng*0.1%22%20style%3D%22whiteSpace%3Dwrap%3Bhtml%3D1%3Brounded%3D0%3B%22%20vertex%3D%221%22%20parent%3D%221%22%3E%3CmxGeometry%20x%3D%22340%22%20y%3D%22680%22%20width%3D%22120%22%20height%3D%2250%22%20as%3D%22geometry%22%2F%3E%3C%2FmxCell%3E%3C%2Froot%3E%3C%2FmxGraphModel%3E"
   ]
  },
  {
   "cell_type": "markdown",
   "id": "dc302f16",
   "metadata": {},
   "source": [
    "<b>Đề bài</b>\n",
    "\n",
    "Nhập vào số điểm văn và điểm toán, tính và in ra điểm trung bình, nếu điểm trung bình lớn hơn 8 thì in ra dòng chữ Học sinh giỏi, ngược lại thì in ra dòng chữ Không phải học sinh giỏi\n",
    "\n",
    "<b>Mã giả:</b>"
   ]
  },
  {
   "cell_type": "raw",
   "id": "746404c0",
   "metadata": {},
   "source": [
    "Nhập (điểm văn)\n",
    "Nhập (điểm toán)\n",
    "In điểm tb=(điểm văn + điểm toán)/2 \n",
    "Nếu (điểm tb>8)\n",
    " In (học sinh giỏi)\n",
    "Ngược lại:(điểm tb<8)\n",
    " In (không phải học sinh giỏi)"
   ]
  },
  {
   "cell_type": "markdown",
   "id": "47feb947",
   "metadata": {},
   "source": [
    "<b>Lưu đồ giải thuật:</b>"
   ]
  },
  {
   "cell_type": "markdown",
   "id": "3a3fa353",
   "metadata": {},
   "source": []
  },
  {
   "cell_type": "markdown",
   "id": "f54e51d6",
   "metadata": {},
   "source": [
    "<b>Đề bài</b>\n",
    "\n",
    "Nhập vào một số, kiểm tra xem số đó có chia hết cho 5 hay không\n",
    "\n",
    "<b>Mã giả:</b>"
   ]
  },
  {
   "cell_type": "raw",
   "id": "af34c6d1",
   "metadata": {},
   "source": [
    "Nhập (số)\n",
    "số dư = số %5"
   ]
  },
  {
   "cell_type": "markdown",
   "id": "03043cde",
   "metadata": {},
   "source": [
    "<b>Lưu đồ giải thuật:</b>"
   ]
  },
  {
   "cell_type": "markdown",
   "id": "63996250",
   "metadata": {},
   "source": []
  },
  {
   "cell_type": "markdown",
   "id": "085b68e5",
   "metadata": {},
   "source": [
    "<b>Đề bài</b>\n",
    "\n",
    "Nhập vào điểm số, nếu điểm số lớn hơn hoặc bằng 8, in ra dòng chữ Học sinh giỏi, nếu điểm số bé hơn 8 và lớn hơn hoặc bằng 6, in ra dòng chữ chữ học sinh Khá, ngược lại in ra dòng chữ Học sinh trung bình\n",
    "\n",
    "<b>Mã giả:</b>"
   ]
  },
  {
   "cell_type": "raw",
   "id": "b62df4f3",
   "metadata": {},
   "source": [
    "nhập ( điểm số)\n",
    "Nếu (điểm số >=8)\n",
    " In(học sinh giỏi)\n",
    "Ngược lại:\n",
    "Nếu (8<điểm số)\n",
    " In(học sinh khá)\n",
    "Ngược lại:\n",
    "Nếu (điểm số >= 6)"
   ]
  },
  {
   "cell_type": "markdown",
   "id": "98cc51d3",
   "metadata": {},
   "source": [
    "<b>Lưu đồ giải thuật:</b>"
   ]
  },
  {
   "cell_type": "markdown",
   "id": "2717c8d8",
   "metadata": {},
   "source": []
  },
  {
   "cell_type": "markdown",
   "id": "559fb20e",
   "metadata": {},
   "source": [
    "<b>Lưu đồ giải thuật:</b>"
   ]
  },
  {
   "cell_type": "markdown",
   "id": "7e09c702",
   "metadata": {},
   "source": [
    "<b>Đề bài</b>\n",
    "\n",
    "Nhập vào một số, kiểm tra tính chẳn lẻ và số đó có lớn hơn 10 hay không. (in ra 4 trường hợp: chẳn lớn hơn 10, lẻ lớn hơn 10, chẳn bé hơn hoặc bằng 10, lẻ bé hơn 10)\n",
    "\n",
    "<b>Mã giả:</b>Nhập (số)\n"
   ]
  },
  {
   "cell_type": "markdown",
   "id": "8381a441",
   "metadata": {},
   "source": []
  }
 ],
 "metadata": {
  "kernelspec": {
   "display_name": "Python 3 (ipykernel)",
   "language": "python",
   "name": "python3"
  },
  "language_info": {
   "codemirror_mode": {
    "name": "ipython",
    "version": 3
   },
   "file_extension": ".py",
   "mimetype": "text/x-python",
   "name": "python",
   "nbconvert_exporter": "python",
   "pygments_lexer": "ipython3",
   "version": "3.11.3"
  }
 },
 "nbformat": 4,
 "nbformat_minor": 5
}
